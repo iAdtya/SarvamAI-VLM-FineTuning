{
 "cells": [
  {
   "cell_type": "markdown",
   "metadata": {},
   "source": [
    "Hii team @natalierand_21292  @neilbhatt  i was working on a fine tunning project and my credits got exhausted and I cannot even run the pod on CPU to get the code and my files on GitHub or local system \n",
    "I don't have a credit card can you plz help me with this its urgent! "
   ]
  },
  {
   "cell_type": "code",
   "execution_count": null,
   "metadata": {},
   "outputs": [],
   "source": [
    "%pip install pytesseract Pillow"
   ]
  },
  {
   "cell_type": "markdown",
   "metadata": {},
   "source": [
    "# CREATE THE JSON FILE USING OCR "
   ]
  },
  {
   "cell_type": "code",
   "execution_count": null,
   "metadata": {},
   "outputs": [],
   "source": [
    "import os\n",
    "import json\n",
    "from PIL import Image\n",
    "import pytesseract\n",
    "import random\n",
    "\n",
    "# Directory containing the images\n",
    "image_dir = \"dataset/train/\"  # Path to your images\n",
    "\n",
    "# Initialize the dataset list\n",
    "dataset = []\n",
    "\n",
    "# User instruction for all entries\n",
    "instruction = \"Extract the text from the provided image.\"\n",
    "\n",
    "# Process each image in the directory\n",
    "for image_file in os.listdir(image_dir):\n",
    "    if image_file.endswith(\".jpg\"):  # Ensure we're only processing .jpg files\n",
    "        image_path = os.path.join(image_dir, image_file)\n",
    "        try:\n",
    "            # Open the image using PIL\n",
    "            pil_image = Image.open(image_path).convert(\"RGB\")\n",
    "            \n",
    "            # Extract text using Tesseract OCR with PSM 3 (fully automatic page segmentation)\n",
    "            extracted_text = pytesseract.image_to_string(pil_image, config='--psm 3')\n",
    "            \n",
    "            # Create the conversation entry in the required format\n",
    "            conversation = [\n",
    "                {\n",
    "                    \"role\": \"user\",\n",
    "                    \"content\": [\n",
    "                        {\"type\": \"text\", \"text\": instruction},\n",
    "                        {\"type\": \"image\", \"image\": image_path}\n",
    "                    ]\n",
    "                },\n",
    "                {\n",
    "                    \"role\": \"assistant\",\n",
    "                    \"content\": [\n",
    "                        {\"type\": \"text\", \"text\": extracted_text}\n",
    "                    ]\n",
    "                }\n",
    "            ]\n",
    "            \n",
    "            # Add the conversation to the dataset\n",
    "            dataset.append(conversation)\n",
    "            print(f\"Processed {image_path}: {extracted_text[:50]}...\")\n",
    "            \n",
    "        except Exception as e:\n",
    "            print(f\"Error processing {image_path}: {e}\")\n",
    "\n",
    "\n",
    "# Save the full dataset to a JSON file\n",
    "with open(\"processed_dataset_V6.json\", \"w\") as f:\n",
    "    json.dump(dataset, f, indent=4)\n",
    "\n",
    "print(f\"Dataset creation completed.\")\n",
    "print(f\"Full dataset saved to 'processed_dataset_V6.json' with {len(dataset)} entries.\")\n",
    "\n",
    "# Print the first entry as an example\n",
    "if dataset:\n",
    "    print(\"\\nFirst entry example:\")\n",
    "    print(json.dumps(dataset[0], indent=2))\n",
    "else:\n",
    "    print(\"No entries in the dataset.\")"
   ]
  },
  {
   "cell_type": "markdown",
   "metadata": {},
   "source": [
    "# PUSH THE DATASET TO HF"
   ]
  },
  {
   "cell_type": "code",
   "execution_count": null,
   "metadata": {},
   "outputs": [],
   "source": [
    "from datasets import load_dataset\n",
    "\n",
    "dataset = load_dataset(\"json\", data_files=\"dataset/processed_dataset_V6.json\")\n",
    "\n",
    "dataset"
   ]
  },
  {
   "cell_type": "code",
   "execution_count": null,
   "metadata": {},
   "outputs": [],
   "source": [
    "dataset[\"train\"][0]"
   ]
  },
  {
   "cell_type": "code",
   "execution_count": null,
   "metadata": {},
   "outputs": [],
   "source": [
    "from huggingface_hub import  notebook_login\n",
    "notebook_login()"
   ]
  },
  {
   "cell_type": "code",
   "execution_count": null,
   "metadata": {},
   "outputs": [],
   "source": [
    "dataset.push_to_hub(\"Aditya-Khedekar/SarvamAI-VLM-dataset\")"
   ]
  },
  {
   "cell_type": "markdown",
   "metadata": {},
   "source": [
    "# LOAD THE DATASET"
   ]
  },
  {
   "cell_type": "code",
   "execution_count": 10,
   "metadata": {},
   "outputs": [
    {
     "data": {
      "text/plain": [
       "DatasetDict({\n",
       "    train: Dataset({\n",
       "        features: ['image', 'text'],\n",
       "        num_rows: 107\n",
       "    })\n",
       "    test: Dataset({\n",
       "        features: ['image', 'text'],\n",
       "        num_rows: 29\n",
       "    })\n",
       "})"
      ]
     },
     "execution_count": 10,
     "metadata": {},
     "output_type": "execute_result"
    }
   ],
   "source": [
    "from datasets import load_dataset\n",
    "\n",
    "dataset = load_dataset(\"Aditya-Khedekar/SarvamAI-VLM-dataset\")\n",
    "\n",
    "dataset"
   ]
  },
  {
   "cell_type": "markdown",
   "metadata": {},
   "source": [
    "# MERGE AND PUSH THE MODEL TO HF \n",
    "- Unfortunately this model is not merged properly :( (https://huggingface.co/Aditya-Khedekar/SarvamAI-VLM)\n",
    "- So you will have to push the (lora_model_V2) folder to drive and mount the drive to colab copy the path and then run the "
   ]
  },
  {
   "cell_type": "code",
   "execution_count": null,
   "metadata": {},
   "outputs": [],
   "source": [
    "%pip install -q -U peft"
   ]
  },
  {
   "cell_type": "code",
   "execution_count": null,
   "metadata": {},
   "outputs": [],
   "source": [
    "from transformers import MllamaForConditionalGeneration, AutoTokenizer\n",
    "from peft import PeftModel\n",
    "from huggingface_hub import HfApi, login\n",
    "\n",
    "# Step 1: Load the base model with the correct class\n",
    "base_model_name = \"unsloth/Llama-3.2-11B-Vision-Instruct\"\n",
    "base_model = MllamaForConditionalGeneration.from_pretrained(base_model_name)\n",
    "tokenizer = AutoTokenizer.from_pretrained(base_model_name)\n",
    "\n",
    "# Step 2: Load the adapters\n",
    "adapter_path = \"lora_model_V2\"  # Path to your adapter directory\n",
    "model = PeftModel.from_pretrained(base_model, adapter_path)\n",
    "\n",
    "# Step 3: Merge the adapters with the base model\n",
    "merged_model = model.merge_and_unload()\n",
    "\n",
    "# Step 4: Save the merged model locally\n",
    "merged_model_path = \"merged_model_V2\"\n",
    "merged_model.save_pretrained(merged_model_path)\n",
    "tokenizer.save_pretrained(merged_model_path)  # Save the tokenizer too\n",
    "\n",
    "# Step 5: Push the merged model to Hugging Face\n",
    "# disabled token\n",
    "login(token=\"\")\n",
    "repo_id = \"Aditya-Khedekar/SarvamAI-VLM\"  # Your repository name\n",
    "api = HfApi()\n",
    "api.upload_folder(\n",
    "    folder_path=merged_model_path,\n",
    "    repo_id=repo_id,\n",
    "    repo_type=\"model\",\n",
    ")\n",
    "print(f\"Merged model successfully uploaded to https://huggingface.co/{repo_id}\")"
   ]
  },
  {
   "cell_type": "markdown",
   "metadata": {},
   "source": []
  }
 ],
 "metadata": {
  "kernelspec": {
   "display_name": "venv",
   "language": "python",
   "name": "python3"
  },
  "language_info": {
   "codemirror_mode": {
    "name": "ipython",
    "version": 3
   },
   "file_extension": ".py",
   "mimetype": "text/x-python",
   "name": "python",
   "nbconvert_exporter": "python",
   "pygments_lexer": "ipython3",
   "version": "3.12.9"
  }
 },
 "nbformat": 4,
 "nbformat_minor": 2
}
