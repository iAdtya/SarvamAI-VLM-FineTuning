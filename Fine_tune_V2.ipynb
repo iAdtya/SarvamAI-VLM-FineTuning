{
 "cells": [
  {
   "cell_type": "code",
   "execution_count": 1,
   "metadata": {},
   "outputs": [
    {
     "name": "stdout",
     "output_type": "stream",
     "text": [
      "🦥 Unsloth: Will patch your computer to enable 2x faster free finetuning.\n",
      "🦥 Unsloth Zoo will now patch everything to make training faster!\n"
     ]
    }
   ],
   "source": [
    "from unsloth import FastVisionModel \n",
    "import torch\n",
    "import wandb"
   ]
  },
  {
   "cell_type": "code",
   "execution_count": 2,
   "metadata": {},
   "outputs": [
    {
     "name": "stdout",
     "output_type": "stream",
     "text": [
      "==((====))==  Unsloth 2025.3.17: Fast Mllama patching. Transformers: 4.49.0.\n",
      "   \\\\   /|    NVIDIA L4. Num GPUs = 1. Max memory: 22.168 GB. Platform: Linux.\n",
      "O^O/ \\_/ \\    Torch: 2.6.0+cu124. CUDA: 8.9. CUDA Toolkit: 12.4. Triton: 3.2.0\n",
      "\\        /    Bfloat16 = TRUE. FA [Xformers = 0.0.29.post3. FA2 = False]\n",
      " \"-____-\"     Free license: http://github.com/unslothai/unsloth\n",
      "Unsloth: Fast downloading is enabled - ignore downloading bars which are red colored!\n"
     ]
    },
    {
     "data": {
      "application/vnd.jupyter.widget-view+json": {
       "model_id": "fbcf5d889e7a4e32907d895dcce73399",
       "version_major": 2,
       "version_minor": 0
      },
      "text/plain": [
       "Loading checkpoint shards:   0%|          | 0/2 [00:00<?, ?it/s]"
      ]
     },
     "metadata": {},
     "output_type": "display_data"
    }
   ],
   "source": [
    "\n",
    "model, tokenizer = FastVisionModel.from_pretrained(\n",
    "    \"unsloth/Llama-3.2-11B-Vision-Instruct\",\n",
    "    load_in_4bit = True, # Use 4bit to reduce memory use. False for 16bit LoRA.\n",
    "    use_gradient_checkpointing = \"unsloth\", # True or \"unsloth\" for long context\n",
    ")"
   ]
  },
  {
   "cell_type": "code",
   "execution_count": 3,
   "metadata": {},
   "outputs": [
    {
     "name": "stdout",
     "output_type": "stream",
     "text": [
      "Unsloth: Making `model.base_model.model.vision_model.transformer` require gradients\n"
     ]
    }
   ],
   "source": [
    "model = FastVisionModel.get_peft_model(\n",
    "    model,\n",
    "    finetune_vision_layers=True,\n",
    "    finetune_language_layers=True,\n",
    "    finetune_attention_modules=True,\n",
    "    finetune_mlp_modules=True,\n",
    "    r=16,\n",
    "    lora_alpha=16,\n",
    "    lora_dropout=0,\n",
    "    bias=\"none\",\n",
    "    random_state=3407,\n",
    "    use_rslora=False,\n",
    "    loftq_config=None,\n",
    ")\n"
   ]
  },
  {
   "cell_type": "markdown",
   "metadata": {},
   "source": [
    "# DATASET"
   ]
  },
  {
   "cell_type": "code",
   "execution_count": 4,
   "metadata": {},
   "outputs": [
    {
     "data": {
      "application/vnd.jupyter.widget-view+json": {
       "model_id": "e292ce74cf274330aa9e5681d330ff9d",
       "version_major": 2,
       "version_minor": 0
      },
      "text/plain": [
       "README.md:   0%|          | 0.00/450 [00:00<?, ?B/s]"
      ]
     },
     "metadata": {},
     "output_type": "display_data"
    },
    {
     "data": {
      "application/vnd.jupyter.widget-view+json": {
       "model_id": "8faaae5980984cb1aa96324f77c0262e",
       "version_major": 2,
       "version_minor": 0
      },
      "text/plain": [
       "train-00000-of-00001.parquet:   0%|          | 0.00/25.2M [00:00<?, ?B/s]"
      ]
     },
     "metadata": {},
     "output_type": "display_data"
    },
    {
     "data": {
      "application/vnd.jupyter.widget-view+json": {
       "model_id": "118a5c5bb7b04270b9dffbb5ac15452c",
       "version_major": 2,
       "version_minor": 0
      },
      "text/plain": [
       "test-00000-of-00001.parquet:   0%|          | 0.00/6.95M [00:00<?, ?B/s]"
      ]
     },
     "metadata": {},
     "output_type": "display_data"
    },
    {
     "data": {
      "application/vnd.jupyter.widget-view+json": {
       "model_id": "81f38d4df5d640df924c8f5040637c7b",
       "version_major": 2,
       "version_minor": 0
      },
      "text/plain": [
       "Generating train split:   0%|          | 0/107 [00:00<?, ? examples/s]"
      ]
     },
     "metadata": {},
     "output_type": "display_data"
    },
    {
     "data": {
      "application/vnd.jupyter.widget-view+json": {
       "model_id": "33b9be3dbf3e446fb0b0c197a6ff33a3",
       "version_major": 2,
       "version_minor": 0
      },
      "text/plain": [
       "Generating test split:   0%|          | 0/29 [00:00<?, ? examples/s]"
      ]
     },
     "metadata": {},
     "output_type": "display_data"
    }
   ],
   "source": [
    "from datasets import load_dataset\n",
    "\n",
    "dataset = load_dataset(\"Aditya-Khedekar/SarvamAI-VLM-dataset\", split=\"train\")"
   ]
  },
  {
   "cell_type": "code",
   "execution_count": 5,
   "metadata": {},
   "outputs": [
    {
     "data": {
      "text/plain": [
       "Dataset({\n",
       "    features: ['image', 'text'],\n",
       "    num_rows: 107\n",
       "})"
      ]
     },
     "execution_count": 5,
     "metadata": {},
     "output_type": "execute_result"
    }
   ],
   "source": [
    "dataset"
   ]
  },
  {
   "cell_type": "code",
   "execution_count": 6,
   "metadata": {},
   "outputs": [
    {
     "data": {
      "text/plain": [
       "{'image': <PIL.JpegImagePlugin.JpegImageFile image mode=RGB size=1758x2267>,\n",
       " 'text': 'Kargil and Beyond\\n\\nSpeech by Sh. Jaswant Singh, Minister of External Affairs at\\nIndia International Centre on July 20, 1999\\n\\nMr. Chairman, Ladies and\\nGentlemen,\\n\\nIt is now time to look ahead; to\\nlook beyond Kargil. But even in\\ncharting our course for the fu-\\nture we have to assess what\\nKargil 1999 was all about? What\\nwere the challenges — military\\nand diplomatic? What new fac-\\nets of our total national com-\\nmitment and endeavour\\nemerged? What lessons for the\\nyears that lie ahead? ‘Operation\\nVijay’ — as the Prime Minister\\nsaid some days back — has\\nresulted in ‘Vijay’ for India. As\\nwe re-examine the military and\\ndiplomatic challenges that then\\nconfronted us, and which were\\nsuccessfully managed, we need\\nto have a preliminary analysis,\\ndraw some first conclusions and\\nabove all, looking beyond Kargil,\\ndraw a route chart for the to-\\nmorrows to come.\\n\\nFirst, the military dimension.\\nKargil was a military aggression\\nby Pakistan, with Pak army regu-\\nlars, across a stretch of the LoC,\\nin four pockets, from the\\nMushkoh Valley in the west to\\nTartuk in the Yaldor-Batalik\\nsector in the East. Initially, with\\nthe aggressor — as with all\\naggressors lay the element of\\nsurprise. This was soon coun-\\ntered locally. Initially, the ter-\\nrain, too, conferred some ad-\\nvantage to the aggressor. They\\nhad intruded along ridgelines to\\noccupy some key heights and\\nfeatures that dominated a vital\\nroad link, between Dras and\\nKargil. The depth of the ridge-\\n\\n2 INDIANEWS « August 15, 1999\\n\\nGo gle\\n\\nlines north of the LoC and their\\ngradients, along with nullah ap-\\nproaches enabled the Pakistan\\narmy to provide crucial logisti-\\ncal and administrative support\\nto their troops.\\n\\nThe Indian army’s response to\\nthe military challenge was mea-\\nsured yet swift, it was focussed,\\nthus effective. The first task was\\nto contain the intrusion. For this\\nan accurate assessment was\\nnecessary about the degree and\\nextent of it. This involved,\\namongst other activities the\\ndrawing of fire. Simultaneously,\\na redeployment of troops took\\nplace. Through a successful\\ncontainment of the aggressor’s\\nintrusion was ensured the inevi-\\ntable defeat of this misadven-\\nture by Pakistan. The element\\nof surprise was countered by the\\nIndian army through the speed\\nand lethality of its response. On\\n26th May, the Air Force swung\\ninto action in support of the\\nground operations.\\n\\nOur military objective had been\\nclearly spelt out to the intruders\\nretreat or the Indian army shall\\nevict you. In any event once the\\nintruder’s aim of interfering with\\nthe Dras-Kargil Highway had\\nbeen thwarted the whole ratio-\\nnale of this aggression had got\\ndefeated. A mere holding of\\nheights was militarily a counter\\nproductive venture. They were\\nbound to be evicted — in detail\\n— one by one; for their occupa-\\ntion served scant military pur-\\npose. For India, occupation of\\nterritory, south of the LoC, was\\n\\nsimply not acceptable both\\nphysically and as a violation of\\na principle. Tactical surprise\\nhaving been lost early by the\\naggressor, the military principles\\nof superior force, concentration\\nand firepower were bound to tell.\\nAnd they did, decisively. This\\nphase of eviction did not, in-\\ndeed could not be a phase of\\nbattles of maneuver. The nature\\nof the terrain, the adversary’s\\ndispositions plus most impor-\\ntantly our self-imposed restraints\\nabout the LoC, precluded those\\noptions. The battles for the\\nheights thus became classic\\ninfantry actions in high altitude,\\ncombining mountaineering and\\nfighting, against fixed enemy\\npositions at a higher elevation.\\nThey were actions that de-\\nmanded grit, stamina and daunt-\\nless courage. Our troops dis-\\nplayed all these qualities in full\\nmeasure.\\n\\nLet us be clear about one other\\nvital aspect. This aggression in\\nKargil sector was by the Pak\\nregular army, it had the logistic\\nand administrative support of\\nnot the Pakistani Army alone\\nbut of their total state machin-\\nery. Secondly, this misadven-\\nture was not aimed at infiltrat-\\ning into the Srinagar Valley, it\\nwas to occupy territory in Kargil\\nand in holding that. This pur-\\npose, too, was defeated.\\n\\nThe Kargil aggression is not an\\n\\nextension of the problem of ex-\\nternally aided and abetted cross\\nborder terrorism that we have\\ncombated uptill now. It is an\\n'}"
      ]
     },
     "execution_count": 6,
     "metadata": {},
     "output_type": "execute_result"
    }
   ],
   "source": [
    "dataset[0]"
   ]
  },
  {
   "cell_type": "markdown",
   "metadata": {},
   "source": [
    "# CONVERTED DATASET"
   ]
  },
  {
   "cell_type": "code",
   "execution_count": 8,
   "metadata": {},
   "outputs": [],
   "source": [
    "instruction = \"Extract the text from the provided image.\"\n",
    "\n",
    "def convert_to_conversation(sample):\n",
    "    conversation = [\n",
    "        { \"role\": \"user\",\n",
    "          \"content\" : [\n",
    "            {\"type\" : \"text\",  \"text\"  : instruction},\n",
    "            {\"type\" : \"image\", \"image\" : sample[\"image\"]} ]\n",
    "        },\n",
    "        { \"role\" : \"assistant\",\n",
    "          \"content\" : [\n",
    "            {\"type\" : \"text\",  \"text\"  : sample[\"text\"]} ]\n",
    "        },\n",
    "    ]\n",
    "    return { \"messages\" : conversation }\n",
    "pass"
   ]
  },
  {
   "cell_type": "code",
   "execution_count": 9,
   "metadata": {},
   "outputs": [],
   "source": [
    "converted_dataset = [convert_to_conversation(sample) for sample in dataset]"
   ]
  },
  {
   "cell_type": "code",
   "execution_count": 10,
   "metadata": {},
   "outputs": [
    {
     "data": {
      "text/plain": [
       "{'messages': [{'role': 'user',\n",
       "   'content': [{'type': 'text',\n",
       "     'text': 'Extract the text from the provided image.'},\n",
       "    {'type': 'image',\n",
       "     'image': <PIL.JpegImagePlugin.JpegImageFile image mode=RGB size=1758x2267>}]},\n",
       "  {'role': 'assistant',\n",
       "   'content': [{'type': 'text',\n",
       "     'text': 'Kargil and Beyond\\n\\nSpeech by Sh. Jaswant Singh, Minister of External Affairs at\\nIndia International Centre on July 20, 1999\\n\\nMr. Chairman, Ladies and\\nGentlemen,\\n\\nIt is now time to look ahead; to\\nlook beyond Kargil. But even in\\ncharting our course for the fu-\\nture we have to assess what\\nKargil 1999 was all about? What\\nwere the challenges — military\\nand diplomatic? What new fac-\\nets of our total national com-\\nmitment and endeavour\\nemerged? What lessons for the\\nyears that lie ahead? ‘Operation\\nVijay’ — as the Prime Minister\\nsaid some days back — has\\nresulted in ‘Vijay’ for India. As\\nwe re-examine the military and\\ndiplomatic challenges that then\\nconfronted us, and which were\\nsuccessfully managed, we need\\nto have a preliminary analysis,\\ndraw some first conclusions and\\nabove all, looking beyond Kargil,\\ndraw a route chart for the to-\\nmorrows to come.\\n\\nFirst, the military dimension.\\nKargil was a military aggression\\nby Pakistan, with Pak army regu-\\nlars, across a stretch of the LoC,\\nin four pockets, from the\\nMushkoh Valley in the west to\\nTartuk in the Yaldor-Batalik\\nsector in the East. Initially, with\\nthe aggressor — as with all\\naggressors lay the element of\\nsurprise. This was soon coun-\\ntered locally. Initially, the ter-\\nrain, too, conferred some ad-\\nvantage to the aggressor. They\\nhad intruded along ridgelines to\\noccupy some key heights and\\nfeatures that dominated a vital\\nroad link, between Dras and\\nKargil. The depth of the ridge-\\n\\n2 INDIANEWS « August 15, 1999\\n\\nGo gle\\n\\nlines north of the LoC and their\\ngradients, along with nullah ap-\\nproaches enabled the Pakistan\\narmy to provide crucial logisti-\\ncal and administrative support\\nto their troops.\\n\\nThe Indian army’s response to\\nthe military challenge was mea-\\nsured yet swift, it was focussed,\\nthus effective. The first task was\\nto contain the intrusion. For this\\nan accurate assessment was\\nnecessary about the degree and\\nextent of it. This involved,\\namongst other activities the\\ndrawing of fire. Simultaneously,\\na redeployment of troops took\\nplace. Through a successful\\ncontainment of the aggressor’s\\nintrusion was ensured the inevi-\\ntable defeat of this misadven-\\nture by Pakistan. The element\\nof surprise was countered by the\\nIndian army through the speed\\nand lethality of its response. On\\n26th May, the Air Force swung\\ninto action in support of the\\nground operations.\\n\\nOur military objective had been\\nclearly spelt out to the intruders\\nretreat or the Indian army shall\\nevict you. In any event once the\\nintruder’s aim of interfering with\\nthe Dras-Kargil Highway had\\nbeen thwarted the whole ratio-\\nnale of this aggression had got\\ndefeated. A mere holding of\\nheights was militarily a counter\\nproductive venture. They were\\nbound to be evicted — in detail\\n— one by one; for their occupa-\\ntion served scant military pur-\\npose. For India, occupation of\\nterritory, south of the LoC, was\\n\\nsimply not acceptable both\\nphysically and as a violation of\\na principle. Tactical surprise\\nhaving been lost early by the\\naggressor, the military principles\\nof superior force, concentration\\nand firepower were bound to tell.\\nAnd they did, decisively. This\\nphase of eviction did not, in-\\ndeed could not be a phase of\\nbattles of maneuver. The nature\\nof the terrain, the adversary’s\\ndispositions plus most impor-\\ntantly our self-imposed restraints\\nabout the LoC, precluded those\\noptions. The battles for the\\nheights thus became classic\\ninfantry actions in high altitude,\\ncombining mountaineering and\\nfighting, against fixed enemy\\npositions at a higher elevation.\\nThey were actions that de-\\nmanded grit, stamina and daunt-\\nless courage. Our troops dis-\\nplayed all these qualities in full\\nmeasure.\\n\\nLet us be clear about one other\\nvital aspect. This aggression in\\nKargil sector was by the Pak\\nregular army, it had the logistic\\nand administrative support of\\nnot the Pakistani Army alone\\nbut of their total state machin-\\nery. Secondly, this misadven-\\nture was not aimed at infiltrat-\\ning into the Srinagar Valley, it\\nwas to occupy territory in Kargil\\nand in holding that. This pur-\\npose, too, was defeated.\\n\\nThe Kargil aggression is not an\\n\\nextension of the problem of ex-\\nternally aided and abetted cross\\nborder terrorism that we have\\ncombated uptill now. It is an\\n'}]}]}"
      ]
     },
     "execution_count": 10,
     "metadata": {},
     "output_type": "execute_result"
    }
   ],
   "source": [
    "converted_dataset[0]"
   ]
  },
  {
   "cell_type": "markdown",
   "metadata": {},
   "source": [
    "# INFERENCE EXAMPLE"
   ]
  },
  {
   "cell_type": "code",
   "execution_count": null,
   "metadata": {},
   "outputs": [],
   "source": [
    "FastVisionModel.for_inference(model) # Enable for inference!\n",
    "\n",
    "image = dataset[0][\"image\"]\n",
    "instruction = \"Extract the text from the provided image.\"\n",
    "\n",
    "messages = [\n",
    "    {\"role\": \"user\", \"content\": [\n",
    "        {\"type\": \"image\"},\n",
    "        {\"type\": \"text\", \"text\": instruction}\n",
    "    ]}\n",
    "]\n",
    "input_text = tokenizer.apply_chat_template(messages, add_generation_prompt = True)\n",
    "inputs = tokenizer(\n",
    "    image,\n",
    "    input_text,\n",
    "    add_special_tokens = False,\n",
    "    return_tensors = \"pt\",\n",
    ").to(\"cuda\")\n",
    "\n",
    "from transformers import TextStreamer\n",
    "text_streamer = TextStreamer(tokenizer, skip_prompt = True)\n",
    "_ = model.generate(**inputs, streamer = text_streamer, max_new_tokens = 128,\n",
    "                   use_cache = True, temperature = 1.5, min_p = 0.1)"
   ]
  },
  {
   "cell_type": "markdown",
   "metadata": {},
   "source": [
    "# FINETUNNING "
   ]
  },
  {
   "cell_type": "code",
   "execution_count": 29,
   "metadata": {},
   "outputs": [],
   "source": [
    "from unsloth import is_bf16_supported\n",
    "from unsloth.trainer import UnslothVisionDataCollator\n",
    "from trl import SFTTrainer, SFTConfig\n",
    "\n",
    "FastVisionModel.for_training(model) # Enable for training!\n",
    "\n",
    "wandb.init(project=\"SarvamAI-VLM-FineTuning\", name=\"FineTuning_V2\")\n",
    "\n",
    "\n",
    "# trainer = SFTTrainer(\n",
    "#     model = model,\n",
    "#     tokenizer = tokenizer,\n",
    "#     data_collator = UnslothVisionDataCollator(model, tokenizer), # Must use!\n",
    "#     train_dataset = converted_dataset,\n",
    "#     args = SFTConfig(\n",
    "#         per_device_train_batch_size = 2,\n",
    "#         gradient_accumulation_steps = 4,\n",
    "#         warmup_steps = 5,\n",
    "#         # max_steps = 30,\n",
    "#         num_train_epochs = 1, # Set this instead of max_steps for full training runs\n",
    "#         learning_rate = 2e-4,\n",
    "#         fp16 = not is_bf16_supported(),\n",
    "#         bf16 = is_bf16_supported(),\n",
    "#         logging_steps = 1,\n",
    "#         optim = \"adamw_8bit\",\n",
    "#         weight_decay = 0.01,\n",
    "#         lr_scheduler_type = \"linear\",\n",
    "#         seed = 3407,\n",
    "#         output_dir = \"outputs\",\n",
    "#         report_to = \"wandb\",     # For Weights and Biases\n",
    "\n",
    "#         # You MUST put the below items for vision finetuning:\n",
    "#         remove_unused_columns = False,\n",
    "#         dataset_text_field = \"\",\n",
    "#         dataset_kwargs = {\"skip_prepare_dataset\": True},\n",
    "#         dataset_num_proc = 1,\n",
    "#         max_seq_length = 2048,\n",
    "#     ),\n",
    "# )\n",
    "\n",
    "\n",
    "trainer = SFTTrainer(\n",
    "    model = model,\n",
    "    tokenizer = tokenizer,\n",
    "    data_collator = UnslothVisionDataCollator(model, tokenizer), # Must use!\n",
    "    train_dataset = converted_dataset,\n",
    "    args = SFTConfig(\n",
    "        per_device_train_batch_size = 2,\n",
    "        # gradient_accumulation_steps = 4,\n",
    "        # warmup_steps = 5,\n",
    "        # max_steps = 30,\n",
    "        # num_train_epochs = 1, # Set this instead of max_steps for full training runs\n",
    "        # learning_rate = 2e-4,\n",
    "        # TODO NEW LR, EPOCH STEPS, ACCUMULATION FOR SMOOTH LOSS CURVE \n",
    "        gradient_accumulation_steps = 4,\n",
    "        warmup_steps = 2,\n",
    "        num_train_epochs = 3, # Set this instead of max_steps for full training runs\n",
    "        learning_rate = 1e-4,\n",
    "        fp16 = not is_bf16_supported(),\n",
    "        bf16 = is_bf16_supported(),\n",
    "        logging_steps = 1,\n",
    "        optim = \"adamw_8bit\",\n",
    "        weight_decay = 0.01,\n",
    "        # lr_scheduler_type = \"linear\",\n",
    "        # TODO NEW LR SCHEDULER FOR SMOOTH LOSS CURVE \n",
    "        lr_scheduler_type = \"cosine\",\n",
    "        seed = 3407,\n",
    "        output_dir = \"outputs\",\n",
    "        report_to = \"wandb\",     # For Weights and Biases\n",
    "\n",
    "        # You MUST put the below items for vision finetuning:\n",
    "        remove_unused_columns = False,\n",
    "        dataset_text_field = \"\",\n",
    "        dataset_kwargs = {\"skip_prepare_dataset\": True},\n",
    "        dataset_num_proc = 1,\n",
    "        max_seq_length = 2048,\n",
    "    ),\n",
    ")\n"
   ]
  },
  {
   "cell_type": "markdown",
   "metadata": {},
   "source": [
    "# START FINETUNNIG "
   ]
  },
  {
   "cell_type": "code",
   "execution_count": 30,
   "metadata": {},
   "outputs": [
    {
     "name": "stderr",
     "output_type": "stream",
     "text": [
      "==((====))==  Unsloth - 2x faster free finetuning | Num GPUs used = 1\n",
      "   \\\\   /|    Num examples = 107 | Num Epochs = 3 | Total steps = 39\n",
      "O^O/ \\_/ \\    Batch size per device = 2 | Gradient accumulation steps = 4\n",
      "\\        /    Data Parallel GPUs = 1 | Total batch size (2 x 4 x 1) = 8\n",
      " \"-____-\"     Trainable parameters = 67,174,400/11,000,000,000 (0.61% trained)\n"
     ]
    },
    {
     "data": {
      "text/html": [
       "\n",
       "    <div>\n",
       "      \n",
       "      <progress value='39' max='39' style='width:300px; height:20px; vertical-align: middle;'></progress>\n",
       "      [39/39 35:27, Epoch 2/3]\n",
       "    </div>\n",
       "    <table border=\"1\" class=\"dataframe\">\n",
       "  <thead>\n",
       " <tr style=\"text-align: left;\">\n",
       "      <th>Step</th>\n",
       "      <th>Training Loss</th>\n",
       "    </tr>\n",
       "  </thead>\n",
       "  <tbody>\n",
       "    <tr>\n",
       "      <td>1</td>\n",
       "      <td>0.167100</td>\n",
       "    </tr>\n",
       "    <tr>\n",
       "      <td>2</td>\n",
       "      <td>0.227600</td>\n",
       "    </tr>\n",
       "    <tr>\n",
       "      <td>3</td>\n",
       "      <td>0.228200</td>\n",
       "    </tr>\n",
       "    <tr>\n",
       "      <td>4</td>\n",
       "      <td>0.142700</td>\n",
       "    </tr>\n",
       "    <tr>\n",
       "      <td>5</td>\n",
       "      <td>0.244000</td>\n",
       "    </tr>\n",
       "    <tr>\n",
       "      <td>6</td>\n",
       "      <td>0.267500</td>\n",
       "    </tr>\n",
       "    <tr>\n",
       "      <td>7</td>\n",
       "      <td>0.427500</td>\n",
       "    </tr>\n",
       "    <tr>\n",
       "      <td>8</td>\n",
       "      <td>0.293500</td>\n",
       "    </tr>\n",
       "    <tr>\n",
       "      <td>9</td>\n",
       "      <td>0.194000</td>\n",
       "    </tr>\n",
       "    <tr>\n",
       "      <td>10</td>\n",
       "      <td>0.290400</td>\n",
       "    </tr>\n",
       "    <tr>\n",
       "      <td>11</td>\n",
       "      <td>0.142500</td>\n",
       "    </tr>\n",
       "    <tr>\n",
       "      <td>12</td>\n",
       "      <td>0.323600</td>\n",
       "    </tr>\n",
       "    <tr>\n",
       "      <td>13</td>\n",
       "      <td>0.120600</td>\n",
       "    </tr>\n",
       "    <tr>\n",
       "      <td>14</td>\n",
       "      <td>0.096600</td>\n",
       "    </tr>\n",
       "    <tr>\n",
       "      <td>15</td>\n",
       "      <td>0.248000</td>\n",
       "    </tr>\n",
       "    <tr>\n",
       "      <td>16</td>\n",
       "      <td>0.050100</td>\n",
       "    </tr>\n",
       "    <tr>\n",
       "      <td>17</td>\n",
       "      <td>0.132800</td>\n",
       "    </tr>\n",
       "    <tr>\n",
       "      <td>18</td>\n",
       "      <td>0.239000</td>\n",
       "    </tr>\n",
       "    <tr>\n",
       "      <td>19</td>\n",
       "      <td>0.079400</td>\n",
       "    </tr>\n",
       "    <tr>\n",
       "      <td>20</td>\n",
       "      <td>0.097600</td>\n",
       "    </tr>\n",
       "    <tr>\n",
       "      <td>21</td>\n",
       "      <td>0.201600</td>\n",
       "    </tr>\n",
       "    <tr>\n",
       "      <td>22</td>\n",
       "      <td>0.308000</td>\n",
       "    </tr>\n",
       "    <tr>\n",
       "      <td>23</td>\n",
       "      <td>0.056700</td>\n",
       "    </tr>\n",
       "    <tr>\n",
       "      <td>24</td>\n",
       "      <td>0.081600</td>\n",
       "    </tr>\n",
       "    <tr>\n",
       "      <td>25</td>\n",
       "      <td>0.259100</td>\n",
       "    </tr>\n",
       "    <tr>\n",
       "      <td>26</td>\n",
       "      <td>0.480000</td>\n",
       "    </tr>\n",
       "    <tr>\n",
       "      <td>27</td>\n",
       "      <td>0.265800</td>\n",
       "    </tr>\n",
       "    <tr>\n",
       "      <td>28</td>\n",
       "      <td>0.771200</td>\n",
       "    </tr>\n",
       "    <tr>\n",
       "      <td>29</td>\n",
       "      <td>0.224800</td>\n",
       "    </tr>\n",
       "    <tr>\n",
       "      <td>30</td>\n",
       "      <td>0.215300</td>\n",
       "    </tr>\n",
       "    <tr>\n",
       "      <td>31</td>\n",
       "      <td>0.084900</td>\n",
       "    </tr>\n",
       "    <tr>\n",
       "      <td>32</td>\n",
       "      <td>0.123700</td>\n",
       "    </tr>\n",
       "    <tr>\n",
       "      <td>33</td>\n",
       "      <td>0.188900</td>\n",
       "    </tr>\n",
       "    <tr>\n",
       "      <td>34</td>\n",
       "      <td>0.365700</td>\n",
       "    </tr>\n",
       "    <tr>\n",
       "      <td>35</td>\n",
       "      <td>0.120200</td>\n",
       "    </tr>\n",
       "    <tr>\n",
       "      <td>36</td>\n",
       "      <td>0.356700</td>\n",
       "    </tr>\n",
       "    <tr>\n",
       "      <td>37</td>\n",
       "      <td>0.194300</td>\n",
       "    </tr>\n",
       "    <tr>\n",
       "      <td>38</td>\n",
       "      <td>0.207500</td>\n",
       "    </tr>\n",
       "    <tr>\n",
       "      <td>39</td>\n",
       "      <td>0.138400</td>\n",
       "    </tr>\n",
       "  </tbody>\n",
       "</table><p>"
      ],
      "text/plain": [
       "<IPython.core.display.HTML object>"
      ]
     },
     "metadata": {},
     "output_type": "display_data"
    },
    {
     "name": "stdout",
     "output_type": "stream",
     "text": [
      "Training complete. Model saved to lora_model/\n"
     ]
    }
   ],
   "source": [
    "trainer_stats = trainer.train()\n",
    "model.save_pretrained(\"lora_model_V2\")\n",
    "tokenizer.save_pretrained(\"lora_model_V2\")\n",
    "print(\"Training complete. Model saved to lora_model/\")"
   ]
  },
  {
   "cell_type": "code",
   "execution_count": 31,
   "metadata": {},
   "outputs": [
    {
     "name": "stdout",
     "output_type": "stream",
     "text": [
      "Kargil and Beyond\n",
      "\n",
      "Speech by Sh. Jaswant Singh, Minister of External Affairs at\n",
      "India International Centre on July 20, 1999\n",
      "\n",
      "Mr. Chairman, Ladies and\n",
      "Gentlemen,\n",
      "\n",
      "It is now time to look ahead; to\n",
      "look beyond Kargil. But even in\n",
      "charting our course for the fu-\n",
      "ture we have to assess what\n",
      "Kargil 1999 was all about? What\n",
      "were the challenges — military\n",
      "and diplomatic? What new fac-\n",
      "ets of our total national com-\n",
      "mitment and endeavour\n",
      "emerged? What lessons for the\n",
      "years that lie ahead? ‘Operation\n",
      "Vijay’ — as the Prime Minister\n",
      "said some days back — has\n",
      "resulted in ‘Vijay’ for India. As\n",
      "we re-examine the military and\n",
      "diplomatic challenges that then\n",
      "confronted us, and which were\n",
      "successfully managed, we need\n",
      "to have a preliminary analysis,\n",
      "draw some first conclusions and\n",
      "above all, looking beyond Kargil,\n",
      "draw a route chart for the to-\n",
      "morrows to come.\n",
      "\n",
      "First, the military dimension.\n",
      "Kargil was a military aggression\n",
      "by Pakistan, with Pak army regu-\n",
      "lars, across a stretch of the LoC,\n",
      "in four pockets, from the\n",
      "Mushkoh Valley in the west to\n",
      "Tartuk in the Yaldor-Batalik\n",
      "sector in the East. Initially, with\n",
      "the aggressor — as with all\n",
      "aggressors lay the element of\n",
      "surprise. This was soon coun-\n",
      "tered locally. Initially, the ter-\n",
      "rain, too, conferred some ad-\n",
      "vantage to the aggressor. They\n",
      "had intruded along ridgelines to\n",
      "occupy some key heights and\n",
      "features that dominated a vital\n",
      "road link, between Dras and\n",
      "Kargil. The depth of the ridge-\n",
      "\n",
      "2\n",
      "INDIA NEWS © August 15, 1999\n",
      "\n",
      "Google\n",
      "\n",
      "lines north of the LoC and their\n",
      "gradients, along with nullah ap-\n",
      "proaches enabled the Pakistan\n",
      "army to provide crucial logisti-\n",
      "cal and administrative support\n",
      "to their troops.\n",
      "\n",
      "The Indian army’s response to\n",
      "the military challenge was mea-\n",
      "sured yet swift, it was focussed,\n",
      "thus effective. The first task was\n",
      "to contain the intrusion. For this\n",
      "an accurate assessment was\n",
      "necessary about the degree and\n",
      "extent of it. This involved,\n",
      "amongst other activities the\n",
      "drawing of fire. Simultaneously,\n",
      "a redeployment of troops took\n",
      "place. Through a successful\n",
      "containment of the aggressor's\n",
      "intrusion was ensured the inevi-\n",
      "table defeat of this misadven-\n",
      "ture by Pakistan. The element\n",
      "of surprise was counterred by the\n",
      "Indian army through the speed\n",
      "and lethality of its response. On\n",
      "26th May, the Air Force swung\n",
      "into action in support of the\n",
      "ground operations.\n",
      "\n",
      "Our military objective had been\n",
      "clearly spelt out to the intruders\n",
      "retreat or the Indian army shall\n",
      "evict you. In any event once the\n",
      "intruder’s aim of interfering with\n",
      "the Dras-Kargil Highway had\n",
      "been thwarted the whole ratio-\n",
      "nale of this aggression had got\n",
      "defeated. A mere holding of\n",
      "heights was militarily a counter\n",
      "productive venture. They were\n",
      "bound to be evicted — in detail\n",
      "— one by one; for their occupa-\n",
      "tion served scant military pur-\n",
      "pose. For India, occupation of\n",
      "territory, south of the LoC, was\n",
      "simply not acceptable both\n",
      "physically and as a violation of\n",
      "a principle. Tactical surprise\n",
      "having been lost early by the\n",
      "aggressor, the military principles\n",
      "of superior force, concentration\n",
      "and firepower were bound to tell.\n",
      "And they did, decisively. This\n",
      "phase of evasion did not, in-\n",
      "deed could not be a phase of\n",
      "battles of maneuver. The nature\n",
      "of the terrain, the adversary’s\n",
      "dispositions plus most impor-\n",
      "tantly our self-imposed restraints\n",
      "about the LoC, precluded those\n",
      "options. The battles for the\n",
      "heights thus became classic\n",
      "infantry actions in high altitude,\n",
      "combining mountaineering and\n",
      "fighting, against fixed enemy\n",
      "positions at a higher elevation.\n",
      "\n",
      "They were actions that de-\n",
      "manded grit, stamina and daunt-\n",
      "less courage. Our troops dis-\n",
      "played all these qualities in full\n",
      "measure.\n",
      "\n",
      "Let us be clear about one other\n",
      "vital aspect. This aggression in\n",
      "Kargil sector was by the Pak\n",
      "regular army, it had the logistic\n",
      "and administrative support of\n",
      "not the Pakistani Army alone\n",
      "but of their total state machin-\n",
      "ery. Secondly, this misadven-\n",
      "ture was not aimed at infiltrat-\n",
      "ing into the Srinagar Valley, it\n",
      "was to occupy territory in Kargil\n",
      "and in holding that. This pur-\n",
      "pose, too, was defeated.\n",
      "\n",
      "The Kargil aggression is not an\n",
      "extension of the problem of ex-\n",
      "ternally aided and abetted cross\n",
      "border terrorism that we have\n",
      "combated uptill now. It is an\n",
      "<|eot_id|>\n"
     ]
    }
   ],
   "source": [
    "if False:\n",
    "    from unsloth import FastVisionModel\n",
    "    model, tokenizer = FastVisionModel.from_pretrained(\n",
    "        model_name = \"lora_model_V2\", # YOUR MODEL YOU USED FOR TRAINING\n",
    "        load_in_4bit = True, # Set to False for 16bit LoRA\n",
    "    )\n",
    "    FastVisionModel.for_inference(model) # Enable for inference!\n",
    "\n",
    "image = dataset[0][\"image\"]\n",
    "\n",
    "instruction = \"Extract the text from the provided image\"\n",
    "\n",
    "messages = [\n",
    "    {\"role\": \"user\", \"content\": [\n",
    "        {\"type\": \"image\"},\n",
    "        {\"type\": \"text\", \"text\": instruction}\n",
    "    ]}\n",
    "]\n",
    "input_text = tokenizer.apply_chat_template(messages, add_generation_prompt = True)\n",
    "inputs = tokenizer(\n",
    "    image,\n",
    "    input_text,\n",
    "    add_special_tokens = False,\n",
    "    return_tensors = \"pt\",\n",
    ").to(\"cuda\")\n",
    "\n",
    "from transformers import TextStreamer\n",
    "text_streamer = TextStreamer(tokenizer, skip_prompt = True)\n",
    "_ = model.generate(**inputs, streamer = text_streamer, max_new_tokens = 100000,\n",
    "                   use_cache = True, temperature = 1.5, min_p = 0.1)"
   ]
  },
  {
   "cell_type": "code",
   "execution_count": null,
   "metadata": {},
   "outputs": [],
   "source": []
  }
 ],
 "metadata": {
  "language_info": {
   "name": "python"
  }
 },
 "nbformat": 4,
 "nbformat_minor": 2
}
